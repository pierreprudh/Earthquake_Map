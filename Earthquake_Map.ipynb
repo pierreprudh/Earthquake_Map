{
 "cells": [
  {
   "attachments": {},
   "cell_type": "markdown",
   "metadata": {},
   "source": [
    "<h1 style=\"color:white; background-color: #ADD8E6; padding:15px; text-align: center;\">\n",
    "Earthquakes Map_maker\n",
    "</h1>"
   ]
  },
  {
   "attachments": {},
   "cell_type": "markdown",
   "metadata": {},
   "source": [
    "<h2 style=\"color:#f7ce5b; font-family: Arial, sans-serif; font-size: 40px; margin-top: 50px; border-bottom: 2px solid #f7ce5b;\">\n",
    "Library\n",
    "</h2>"
   ]
  },
  {
   "cell_type": "code",
   "execution_count": 5,
   "metadata": {},
   "outputs": [],
   "source": [
    "import pandas as pd \n",
    "from tabulate import tabulate\n",
    "import folium\n",
    "from folium.plugins import MarkerCluster"
   ]
  },
  {
   "attachments": {},
   "cell_type": "markdown",
   "metadata": {},
   "source": [
    "<h2 style=\"color:#f7ce5b; font-family: Arial, sans-serif; font-size: 40px; margin-top: 50px; border-bottom: 2px solid #f7ce5b;\">\n",
    "Data\n",
    "</h2>"
   ]
  },
  {
   "cell_type": "code",
   "execution_count": 6,
   "metadata": {},
   "outputs": [],
   "source": [
    "magnitude_1 = pd.read_csv(\"./data/1.0_month.csv\")\n",
    "magnitude_45 = pd.read_csv(\"./data/4.5_month.csv\")\n",
    "significant = pd.read_csv(\"./data/significant_month.csv\")"
   ]
  },
  {
   "attachments": {},
   "cell_type": "markdown",
   "metadata": {},
   "source": [
    "<h3 style=\"color:#c38d9e; font-family: Arial, sans-serif; font-size: 24px; margin-top: 40px; text-align: center;\">\n",
    "Map_Maker\n",
    "</h3>"
   ]
  },
  {
   "cell_type": "code",
   "execution_count": 7,
   "metadata": {},
   "outputs": [],
   "source": [
    "def Map_maker(data, name) :\n",
    "    location_counts = data.groupby(['latitude', 'longitude']).size().reset_index(name='counts')\n",
    "    m = folium.Map(location=[0, 0], zoom_start=2)\n",
    "    marker_cluster = MarkerCluster(radius=50)\n",
    "\n",
    "    for _, row in location_counts.iterrows():\n",
    "        count = row['counts']\n",
    "        lat, lon = row['latitude'], row['longitude']\n",
    "        tooltip = f\"{count} earthquakes at ({lat:.2f}, {lon:.2f})\"\n",
    "        folium.Marker(location=[lat, lon], tooltip=tooltip).add_to(marker_cluster)\n",
    "\n",
    "    marker_cluster.add_to(m)\n",
    "\n",
    "    m.save(f'./Maps/recurring_earthquakes_{name}.html')"
   ]
  },
  {
   "attachments": {},
   "cell_type": "markdown",
   "metadata": {},
   "source": [
    "<h2 style=\"color:#f7ce5b; font-family: Arial, sans-serif; font-size: 40px; margin-top: 50px; border-bottom: 2px solid #f7ce5b;\">\n",
    "Maps\n",
    "</h2>"
   ]
  },
  {
   "cell_type": "code",
   "execution_count": 8,
   "metadata": {},
   "outputs": [],
   "source": [
    "Map_maker(magnitude_1, 'magnitude_1')\n",
    "Map_maker(magnitude_45,'magnitude_45')\n",
    "Map_maker(significant, 'significant')"
   ]
  }
 ],
 "metadata": {
  "kernelspec": {
   "display_name": "base",
   "language": "python",
   "name": "python3"
  },
  "language_info": {
   "codemirror_mode": {
    "name": "ipython",
    "version": 3
   },
   "file_extension": ".py",
   "mimetype": "text/x-python",
   "name": "python",
   "nbconvert_exporter": "python",
   "pygments_lexer": "ipython3",
   "version": "3.9.7"
  },
  "orig_nbformat": 4
 },
 "nbformat": 4,
 "nbformat_minor": 2
}
